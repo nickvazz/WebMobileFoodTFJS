{
 "cells": [
  {
   "cell_type": "code",
   "execution_count": 1,
   "metadata": {},
   "outputs": [],
   "source": [
    "files = !ls\n",
    "if 'food-101' not in files:\n",
    "    !wget http://data.vision.ee.ethz.ch/cvl/food-101.tar.gz\n",
    "    !tar xzvf food-101.tar.gz"
   ]
  },
  {
   "cell_type": "code",
   "execution_count": 2,
   "metadata": {},
   "outputs": [
    {
     "data": {
      "text/plain": [
       "[PhysicalDevice(name='/physical_device:CPU:0', device_type='CPU'),\n",
       " PhysicalDevice(name='/physical_device:XLA_CPU:0', device_type='XLA_CPU'),\n",
       " PhysicalDevice(name='/physical_device:XLA_GPU:0', device_type='XLA_GPU'),\n",
       " PhysicalDevice(name='/physical_device:GPU:0', device_type='GPU')]"
      ]
     },
     "execution_count": 2,
     "metadata": {},
     "output_type": "execute_result"
    }
   ],
   "source": [
    "import tensorflow as tf\n",
    "\n",
    "tf.config.experimental.list_physical_devices()"
   ]
  },
  {
   "cell_type": "code",
   "execution_count": 3,
   "metadata": {
    "scrolled": false
   },
   "outputs": [
    {
     "data": {
      "text/html": [
       "<div>\n",
       "<style scoped>\n",
       "    .dataframe tbody tr th:only-of-type {\n",
       "        vertical-align: middle;\n",
       "    }\n",
       "\n",
       "    .dataframe tbody tr th {\n",
       "        vertical-align: top;\n",
       "    }\n",
       "\n",
       "    .dataframe thead th {\n",
       "        text-align: right;\n",
       "    }\n",
       "</style>\n",
       "<table border=\"1\" class=\"dataframe\">\n",
       "  <thead>\n",
       "    <tr style=\"text-align: right;\">\n",
       "      <th></th>\n",
       "      <th>X</th>\n",
       "      <th>y</th>\n",
       "      <th>set</th>\n",
       "      <th>food_label</th>\n",
       "      <th>frozen_yogurt</th>\n",
       "      <th>hot_dog</th>\n",
       "      <th>nachos</th>\n",
       "      <th>omelette</th>\n",
       "      <th>risotto</th>\n",
       "    </tr>\n",
       "  </thead>\n",
       "  <tbody>\n",
       "    <tr>\n",
       "      <th>0</th>\n",
       "      <td>food-101/images/risotto/65321.jpg</td>\n",
       "      <td>0</td>\n",
       "      <td>train</td>\n",
       "      <td>risotto</td>\n",
       "      <td>0</td>\n",
       "      <td>0</td>\n",
       "      <td>0</td>\n",
       "      <td>0</td>\n",
       "      <td>1</td>\n",
       "    </tr>\n",
       "    <tr>\n",
       "      <th>1</th>\n",
       "      <td>food-101/images/risotto/200595.jpg</td>\n",
       "      <td>0</td>\n",
       "      <td>test</td>\n",
       "      <td>risotto</td>\n",
       "      <td>0</td>\n",
       "      <td>0</td>\n",
       "      <td>0</td>\n",
       "      <td>0</td>\n",
       "      <td>1</td>\n",
       "    </tr>\n",
       "    <tr>\n",
       "      <th>2</th>\n",
       "      <td>food-101/images/risotto/19112.jpg</td>\n",
       "      <td>0</td>\n",
       "      <td>test</td>\n",
       "      <td>risotto</td>\n",
       "      <td>0</td>\n",
       "      <td>0</td>\n",
       "      <td>0</td>\n",
       "      <td>0</td>\n",
       "      <td>1</td>\n",
       "    </tr>\n",
       "    <tr>\n",
       "      <th>3</th>\n",
       "      <td>food-101/images/risotto/94799.jpg</td>\n",
       "      <td>0</td>\n",
       "      <td>train</td>\n",
       "      <td>risotto</td>\n",
       "      <td>0</td>\n",
       "      <td>0</td>\n",
       "      <td>0</td>\n",
       "      <td>0</td>\n",
       "      <td>1</td>\n",
       "    </tr>\n",
       "    <tr>\n",
       "      <th>4</th>\n",
       "      <td>food-101/images/risotto/111461.jpg</td>\n",
       "      <td>0</td>\n",
       "      <td>validation</td>\n",
       "      <td>risotto</td>\n",
       "      <td>0</td>\n",
       "      <td>0</td>\n",
       "      <td>0</td>\n",
       "      <td>0</td>\n",
       "      <td>1</td>\n",
       "    </tr>\n",
       "    <tr>\n",
       "      <th>...</th>\n",
       "      <td>...</td>\n",
       "      <td>...</td>\n",
       "      <td>...</td>\n",
       "      <td>...</td>\n",
       "      <td>...</td>\n",
       "      <td>...</td>\n",
       "      <td>...</td>\n",
       "      <td>...</td>\n",
       "      <td>...</td>\n",
       "    </tr>\n",
       "    <tr>\n",
       "      <th>4995</th>\n",
       "      <td>food-101/images/frozen_yogurt/1283999.jpg</td>\n",
       "      <td>4</td>\n",
       "      <td>train</td>\n",
       "      <td>frozen_yogurt</td>\n",
       "      <td>1</td>\n",
       "      <td>0</td>\n",
       "      <td>0</td>\n",
       "      <td>0</td>\n",
       "      <td>0</td>\n",
       "    </tr>\n",
       "    <tr>\n",
       "      <th>4996</th>\n",
       "      <td>food-101/images/frozen_yogurt/610008.jpg</td>\n",
       "      <td>4</td>\n",
       "      <td>train</td>\n",
       "      <td>frozen_yogurt</td>\n",
       "      <td>1</td>\n",
       "      <td>0</td>\n",
       "      <td>0</td>\n",
       "      <td>0</td>\n",
       "      <td>0</td>\n",
       "    </tr>\n",
       "    <tr>\n",
       "      <th>4997</th>\n",
       "      <td>food-101/images/frozen_yogurt/2177517.jpg</td>\n",
       "      <td>4</td>\n",
       "      <td>train</td>\n",
       "      <td>frozen_yogurt</td>\n",
       "      <td>1</td>\n",
       "      <td>0</td>\n",
       "      <td>0</td>\n",
       "      <td>0</td>\n",
       "      <td>0</td>\n",
       "    </tr>\n",
       "    <tr>\n",
       "      <th>4998</th>\n",
       "      <td>food-101/images/frozen_yogurt/3802650.jpg</td>\n",
       "      <td>4</td>\n",
       "      <td>train</td>\n",
       "      <td>frozen_yogurt</td>\n",
       "      <td>1</td>\n",
       "      <td>0</td>\n",
       "      <td>0</td>\n",
       "      <td>0</td>\n",
       "      <td>0</td>\n",
       "    </tr>\n",
       "    <tr>\n",
       "      <th>4999</th>\n",
       "      <td>food-101/images/frozen_yogurt/337889.jpg</td>\n",
       "      <td>4</td>\n",
       "      <td>train</td>\n",
       "      <td>frozen_yogurt</td>\n",
       "      <td>1</td>\n",
       "      <td>0</td>\n",
       "      <td>0</td>\n",
       "      <td>0</td>\n",
       "      <td>0</td>\n",
       "    </tr>\n",
       "  </tbody>\n",
       "</table>\n",
       "<p>5000 rows × 9 columns</p>\n",
       "</div>"
      ],
      "text/plain": [
       "                                              X  y         set     food_label  \\\n",
       "0             food-101/images/risotto/65321.jpg  0       train        risotto   \n",
       "1            food-101/images/risotto/200595.jpg  0        test        risotto   \n",
       "2             food-101/images/risotto/19112.jpg  0        test        risotto   \n",
       "3             food-101/images/risotto/94799.jpg  0       train        risotto   \n",
       "4            food-101/images/risotto/111461.jpg  0  validation        risotto   \n",
       "...                                         ... ..         ...            ...   \n",
       "4995  food-101/images/frozen_yogurt/1283999.jpg  4       train  frozen_yogurt   \n",
       "4996   food-101/images/frozen_yogurt/610008.jpg  4       train  frozen_yogurt   \n",
       "4997  food-101/images/frozen_yogurt/2177517.jpg  4       train  frozen_yogurt   \n",
       "4998  food-101/images/frozen_yogurt/3802650.jpg  4       train  frozen_yogurt   \n",
       "4999   food-101/images/frozen_yogurt/337889.jpg  4       train  frozen_yogurt   \n",
       "\n",
       "      frozen_yogurt  hot_dog  nachos  omelette  risotto  \n",
       "0                 0        0       0         0        1  \n",
       "1                 0        0       0         0        1  \n",
       "2                 0        0       0         0        1  \n",
       "3                 0        0       0         0        1  \n",
       "4                 0        0       0         0        1  \n",
       "...             ...      ...     ...       ...      ...  \n",
       "4995              1        0       0         0        0  \n",
       "4996              1        0       0         0        0  \n",
       "4997              1        0       0         0        0  \n",
       "4998              1        0       0         0        0  \n",
       "4999              1        0       0         0        0  \n",
       "\n",
       "[5000 rows x 9 columns]"
      ]
     },
     "execution_count": 3,
     "metadata": {},
     "output_type": "execute_result"
    }
   ],
   "source": [
    "import os\n",
    "from glob import glob\n",
    "from time import time\n",
    "from itertools import chain\n",
    "from pprint import pprint\n",
    "\n",
    "from tqdm.keras import TqdmCallback\n",
    "import numpy as np\n",
    "import pandas as pd\n",
    "import matplotlib.pyplot as plt\n",
    "import seaborn as sns\n",
    "sns.set()\n",
    "\n",
    "\n",
    "from tensorflow.keras.preprocessing.image import ImageDataGenerator\n",
    "from tensorflow.keras.applications import (\n",
    "    ResNet50, ResNet50V2, \n",
    "    MobileNet, MobileNetV2, \n",
    "    EfficientNetB0, EfficientNetB1, EfficientNetB2,\n",
    "    InceptionV3\t, InceptionResNetV2,\n",
    ")\n",
    "from tensorflow.keras.optimizers.schedules import ExponentialDecay\n",
    "from tensorflow.keras.optimizers import Adam, RMSprop\n",
    "from tensorflow.keras.callbacks import Callback\n",
    "from tensorflow.keras import models\n",
    "from tensorflow.keras import layers\n",
    "from tensorflow.keras import losses\n",
    "from tensorflow.keras import metrics\n",
    "\n",
    "from sklearn.metrics import confusion_matrix, classification_report\n",
    "import mlflow\n",
    "import mlflow.tensorflow\n",
    "import mlflow.keras\n",
    "\n",
    "mlflow.set_tracking_uri(\"sqlite:///ml_training_logs/mlflow.db\")\n",
    "mlflow.set_experiment(\"LiveProjectDeployCViOS\")\n",
    "\n",
    "np.random.seed(42)\n",
    "\n",
    "foods = !ls food-101/images\n",
    "foods = np.random.choice(foods, size=5, replace=False)\n",
    "\n",
    "\n",
    "paths = [glob(f\"food-101/images/{food}/*\") for food in foods]\n",
    "              \n",
    "X = np.ravel([p for p in chain(paths)])\n",
    "y = np.ravel([[i]*1000 for i in range(len(foods))])\n",
    "food_label = np.ravel([[food]*1000 for food in foods])\n",
    "\n",
    "set_type = np.random.choice(['train','test','validation'], len(X), replace=True, p=[0.7, 0.2, 0.1])\n",
    "\n",
    "data_df = pd.DataFrame({'X':X, 'y':y, 'set':set_type, 'food_label':food_label})\n",
    "data_df = pd.concat([data_df, pd.get_dummies(data_df['food_label'])], axis=1)\n",
    "\n",
    "data_df"
   ]
  },
  {
   "cell_type": "code",
   "execution_count": 4,
   "metadata": {},
   "outputs": [],
   "source": [
    "class TimeHistory(Callback):\n",
    "    def on_train_begin(self, logs={}):\n",
    "        self.times = []\n",
    "\n",
    "    def on_epoch_begin(self, batch, logs={}):\n",
    "        self.epoch_time_start = time()\n",
    "\n",
    "    def on_epoch_end(self, batch, logs={}):\n",
    "        self.times.append(time() - self.epoch_time_start)"
   ]
  },
  {
   "cell_type": "code",
   "execution_count": 5,
   "metadata": {},
   "outputs": [
    {
     "name": "stdout",
     "output_type": "stream",
     "text": [
      "Found 3499 validated image filenames belonging to 5 classes.\n",
      "Found 1036 validated image filenames belonging to 5 classes.\n",
      "Found 465 validated image filenames belonging to 5 classes.\n"
     ]
    }
   ],
   "source": [
    "target_shape = (160, 160)\n",
    "\n",
    "datagen = ImageDataGenerator(\n",
    "    rotation_range=10,\n",
    "    width_shift_range=0.1,\n",
    "    height_shift_range=0.1,\n",
    "    horizontal_flip=True,\n",
    "    rescale=1./255\n",
    "    )\n",
    "\n",
    "\n",
    "train_generator = datagen.flow_from_dataframe(\n",
    "    data_df[data_df['set'] == 'train'],\n",
    "    x_col='X',\n",
    "    y_col='food_label',\n",
    "    directory=None,\n",
    "    target_size=(target_shape),\n",
    "    class_mode='sparse',\n",
    "    batch_size=32,\n",
    "    Interpolation='bicubic',\n",
    ")\n",
    "\n",
    "test_generator = datagen.flow_from_dataframe(\n",
    "    data_df[data_df['set'] == 'test'],\n",
    "    x_col='X',\n",
    "    y_col='food_label',\n",
    "    directory=None,\n",
    "    target_size=(target_shape),\n",
    "    class_mode='sparse',\n",
    "    batch_size=32,\n",
    "    Interpolation='bicubic',\n",
    "    shuffle=False,\n",
    ")\n",
    "\n",
    "val_generator = datagen.flow_from_dataframe(\n",
    "    data_df[data_df['set'] == 'validation'],\n",
    "    x_col='X',\n",
    "    y_col='food_label',\n",
    "    directory=None,\n",
    "    target_size=(target_shape),\n",
    "    class_mode='sparse',\n",
    "    batch_size=32,\n",
    "    Interpolation='bicubic',\n",
    ")"
   ]
  },
  {
   "cell_type": "code",
   "execution_count": 6,
   "metadata": {
    "scrolled": false
   },
   "outputs": [],
   "source": [
    "base_models = [\n",
    "    ResNet50, ResNet50V2, \n",
    "    MobileNet, MobileNetV2, \n",
    "    EfficientNetB0, EfficientNetB1, EfficientNetB2,\n",
    "    InceptionV3\t, InceptionResNetV2,\n",
    "]\n",
    "\n",
    "    \n",
    "def run(\n",
    "    base, \n",
    "    initial_learning_rate=1e-3, \n",
    "    decay_steps=50, \n",
    "    decay_rate=0.95,\n",
    "    steps_per_epoch=10,\n",
    "    epochs=50,\n",
    "    validation_steps=5,\n",
    "):\n",
    "    params = {}\n",
    "    params['foods'] = foods\n",
    "    params['base_model'] = base.__name__\n",
    "    params['initial_learning_rate'] = initial_learning_rate\n",
    "    params['decay_steps'] = decay_steps\n",
    "    params['decay_rate'] = decay_rate\n",
    "    \n",
    "    pprint(params)\n",
    "    \n",
    "    conv_base = base(weights='imagenet', include_top=False, input_shape=[*target_shape, 3])\n",
    "    conv_base.trainable = False\n",
    "    \n",
    "    with mlflow.start_run() as run:\n",
    "        model = models.Sequential()\n",
    "        model.add(conv_base)\n",
    "        model.add(layers.GlobalAveragePooling2D())\n",
    "        model.add(layers.Flatten())\n",
    "        model.add(layers.Dense(128, activation='relu'))\n",
    "        model.add(layers.Dense(len(foods), activation='softmax'))\n",
    "\n",
    "        loss_fn = losses.SparseCategoricalCrossentropy(from_logits=False)\n",
    "        \n",
    "        lr_schedule = ExponentialDecay(\n",
    "            initial_learning_rate=initial_learning_rate,\n",
    "            decay_steps=decay_steps,\n",
    "            decay_rate=decay_rate,\n",
    "        )\n",
    "        \n",
    "        optimizer = Adam(learning_rate=lr_schedule)\n",
    "\n",
    "        model.compile(loss=loss_fn,\n",
    "                      optimizer=optimizer,\n",
    "                      metrics=['acc','mse'])\n",
    "\n",
    "        time_callback = TimeHistory()\n",
    "\n",
    "        history = model.fit(\n",
    "            train_generator,\n",
    "            steps_per_epoch=steps_per_epoch,\n",
    "            epochs=epochs,\n",
    "            validation_steps=validation_steps,\n",
    "            validation_data=val_generator,\n",
    "            callbacks=[TqdmCallback(), time_callback],\n",
    "            verbose=0,\n",
    "        )\n",
    "        \n",
    "        model.save('model.h5')\n",
    "        num_trainable = sum([np.prod(tw.shape) for tw in model.trainable_weights])\n",
    "        num_non_trainable = sum([np.prod(tw.shape) for tw in model.non_trainable_weights])\n",
    "        total_wall_time = sum(time_callback.times)\n",
    "        model_size = os.stat('model.h5').st_size / (1024**2)\n",
    "\n",
    "        params['num_trainable'] = num_trainable\n",
    "        params['num_non_trainable'] = num_non_trainable\n",
    "        params['total_wall_time'] = total_wall_time\n",
    "        params['model_size'] = model_size\n",
    "        mlflow.log_params(params)\n",
    "        \n",
    "\n",
    "        y_pred = model.predict(test_generator)\n",
    "        y_pred_food = np.argmax(y_pred, axis=1)\n",
    "        test_acc = np.mean(np.array(test_generator.classes) == y_pred_food)\n",
    "        mlflow.log_metric('test_acc', test_acc)\n",
    "        if test_acc > 0.85:\n",
    "            mlflow.keras.log_model(model, 'model')\n",
    "\n",
    "        sns.heatmap(confusion_matrix(test_generator.classes, y_pred_food), annot=True, fmt=\"d\")\n",
    "\n",
    "        fig, ax = plt.subplots(1,3, figsize=(18,6))\n",
    "\n",
    "        hist_df = pd.DataFrame(history.history).reset_index()\n",
    "        try:\n",
    "            hist_df.plot(y=['loss','val_loss'], ax=ax[0])\n",
    "            hist_df.plot(y=['acc','val_acc'], ax=ax[1])\n",
    "            hist_df.plot(y=['mse','val_mse'], ax=ax[2])\n",
    "        except:\n",
    "            hist_df.plot(y=['loss'], ax=ax[0])\n",
    "            hist_df.plot(y=['acc'], ax=ax[1])\n",
    "            hist_df.plot(y=['mse'], ax=ax[2])\n",
    "            \n",
    "        \n",
    "        ax[1].axhline(test_acc, color='r', linestyle='--', label='test_acc')\n",
    "        \n",
    "        plt.savefig('acc_loss.png')\n",
    "        plt.clf()\n",
    "\n",
    "        plt.savefig('confusion_matrix.png')\n",
    "        plt.clf()\n",
    "         \n",
    "        mlflow.log_artifact('acc_loss.png', artifact_path=\"plots\")\n",
    "        mlflow.log_artifact('confusion_matrix.png', artifact_path=\"plots\")\n",
    "        \n",
    "        for idx, row in hist_df.iloc[1:,].iterrows():\n",
    "            mlflow.log_metrics(row.to_dict(), step=idx)\n",
    "        params['hist_df'] = hist_df\n",
    "        return params"
   ]
  },
  {
   "cell_type": "code",
   "execution_count": 7,
   "metadata": {
    "scrolled": false
   },
   "outputs": [
    {
     "name": "stdout",
     "output_type": "stream",
     "text": [
      "{'base_model': 'ResNet50',\n",
      " 'decay_rate': 0.95,\n",
      " 'decay_steps': 50,\n",
      " 'foods': array(['risotto', 'hot_dog', 'nachos', 'omelette', 'frozen_yogurt'],\n",
      "      dtype='<U23'),\n",
      " 'initial_learning_rate': 0.001}\n"
     ]
    },
    {
     "data": {
      "application/vnd.jupyter.widget-view+json": {
       "model_id": "600ffa111fa94f869368cdbecc06ef05",
       "version_major": 2,
       "version_minor": 0
      },
      "text/plain": [
       "HBox(children=(HTML(value=''), FloatProgress(value=1.0, bar_style='info', layout=Layout(width='20px'), max=1.0…"
      ]
     },
     "metadata": {},
     "output_type": "display_data"
    },
    {
     "data": {
      "application/vnd.jupyter.widget-view+json": {
       "model_id": "",
       "version_major": 2,
       "version_minor": 0
      },
      "text/plain": [
       "HBox(children=(HTML(value=''), FloatProgress(value=1.0, bar_style='info', layout=Layout(width='20px'), max=1.0…"
      ]
     },
     "metadata": {},
     "output_type": "display_data"
    },
    {
     "name": "stdout",
     "output_type": "stream",
     "text": [
      "\n",
      "{'base_model': 'ResNet50V2',\n",
      " 'decay_rate': 0.95,\n",
      " 'decay_steps': 50,\n",
      " 'foods': array(['risotto', 'hot_dog', 'nachos', 'omelette', 'frozen_yogurt'],\n",
      "      dtype='<U23'),\n",
      " 'initial_learning_rate': 0.001}\n"
     ]
    },
    {
     "data": {
      "application/vnd.jupyter.widget-view+json": {
       "model_id": "bb16d4792e0f4a02955b4ae160673ab8",
       "version_major": 2,
       "version_minor": 0
      },
      "text/plain": [
       "HBox(children=(HTML(value=''), FloatProgress(value=1.0, bar_style='info', layout=Layout(width='20px'), max=1.0…"
      ]
     },
     "metadata": {},
     "output_type": "display_data"
    },
    {
     "data": {
      "application/vnd.jupyter.widget-view+json": {
       "model_id": "",
       "version_major": 2,
       "version_minor": 0
      },
      "text/plain": [
       "HBox(children=(HTML(value=''), FloatProgress(value=1.0, bar_style='info', layout=Layout(width='20px'), max=1.0…"
      ]
     },
     "metadata": {},
     "output_type": "display_data"
    },
    {
     "name": "stdout",
     "output_type": "stream",
     "text": [
      "\n",
      "{'base_model': 'MobileNet',\n",
      " 'decay_rate': 0.95,\n",
      " 'decay_steps': 50,\n",
      " 'foods': array(['risotto', 'hot_dog', 'nachos', 'omelette', 'frozen_yogurt'],\n",
      "      dtype='<U23'),\n",
      " 'initial_learning_rate': 0.001}\n"
     ]
    },
    {
     "data": {
      "application/vnd.jupyter.widget-view+json": {
       "model_id": "ef5027a16e804c54a0f4df860f1a9689",
       "version_major": 2,
       "version_minor": 0
      },
      "text/plain": [
       "HBox(children=(HTML(value=''), FloatProgress(value=1.0, bar_style='info', layout=Layout(width='20px'), max=1.0…"
      ]
     },
     "metadata": {},
     "output_type": "display_data"
    },
    {
     "data": {
      "application/vnd.jupyter.widget-view+json": {
       "model_id": "",
       "version_major": 2,
       "version_minor": 0
      },
      "text/plain": [
       "HBox(children=(HTML(value=''), FloatProgress(value=1.0, bar_style='info', layout=Layout(width='20px'), max=1.0…"
      ]
     },
     "metadata": {},
     "output_type": "display_data"
    },
    {
     "name": "stdout",
     "output_type": "stream",
     "text": [
      "\n",
      "{'base_model': 'MobileNetV2',\n",
      " 'decay_rate': 0.95,\n",
      " 'decay_steps': 50,\n",
      " 'foods': array(['risotto', 'hot_dog', 'nachos', 'omelette', 'frozen_yogurt'],\n",
      "      dtype='<U23'),\n",
      " 'initial_learning_rate': 0.001}\n"
     ]
    },
    {
     "data": {
      "application/vnd.jupyter.widget-view+json": {
       "model_id": "912ad08db36c4172a9b210cd74c82b5b",
       "version_major": 2,
       "version_minor": 0
      },
      "text/plain": [
       "HBox(children=(HTML(value=''), FloatProgress(value=1.0, bar_style='info', layout=Layout(width='20px'), max=1.0…"
      ]
     },
     "metadata": {},
     "output_type": "display_data"
    },
    {
     "data": {
      "application/vnd.jupyter.widget-view+json": {
       "model_id": "",
       "version_major": 2,
       "version_minor": 0
      },
      "text/plain": [
       "HBox(children=(HTML(value=''), FloatProgress(value=1.0, bar_style='info', layout=Layout(width='20px'), max=1.0…"
      ]
     },
     "metadata": {},
     "output_type": "display_data"
    },
    {
     "name": "stdout",
     "output_type": "stream",
     "text": [
      "\n",
      "{'base_model': 'EfficientNetB0',\n",
      " 'decay_rate': 0.95,\n",
      " 'decay_steps': 50,\n",
      " 'foods': array(['risotto', 'hot_dog', 'nachos', 'omelette', 'frozen_yogurt'],\n",
      "      dtype='<U23'),\n",
      " 'initial_learning_rate': 0.001}\n"
     ]
    },
    {
     "data": {
      "application/vnd.jupyter.widget-view+json": {
       "model_id": "fd6a193d13dc4c06a4cb61f10f734dba",
       "version_major": 2,
       "version_minor": 0
      },
      "text/plain": [
       "HBox(children=(HTML(value=''), FloatProgress(value=1.0, bar_style='info', layout=Layout(width='20px'), max=1.0…"
      ]
     },
     "metadata": {},
     "output_type": "display_data"
    },
    {
     "data": {
      "application/vnd.jupyter.widget-view+json": {
       "model_id": "",
       "version_major": 2,
       "version_minor": 0
      },
      "text/plain": [
       "HBox(children=(HTML(value=''), FloatProgress(value=1.0, bar_style='info', layout=Layout(width='20px'), max=1.0…"
      ]
     },
     "metadata": {},
     "output_type": "display_data"
    },
    {
     "name": "stdout",
     "output_type": "stream",
     "text": [
      "\n",
      "{'base_model': 'EfficientNetB1',\n",
      " 'decay_rate': 0.95,\n",
      " 'decay_steps': 50,\n",
      " 'foods': array(['risotto', 'hot_dog', 'nachos', 'omelette', 'frozen_yogurt'],\n",
      "      dtype='<U23'),\n",
      " 'initial_learning_rate': 0.001}\n"
     ]
    },
    {
     "data": {
      "application/vnd.jupyter.widget-view+json": {
       "model_id": "a888faf441fb41a4a8b96f8ac2cd6812",
       "version_major": 2,
       "version_minor": 0
      },
      "text/plain": [
       "HBox(children=(HTML(value=''), FloatProgress(value=1.0, bar_style='info', layout=Layout(width='20px'), max=1.0…"
      ]
     },
     "metadata": {},
     "output_type": "display_data"
    },
    {
     "data": {
      "application/vnd.jupyter.widget-view+json": {
       "model_id": "",
       "version_major": 2,
       "version_minor": 0
      },
      "text/plain": [
       "HBox(children=(HTML(value=''), FloatProgress(value=1.0, bar_style='info', layout=Layout(width='20px'), max=1.0…"
      ]
     },
     "metadata": {},
     "output_type": "display_data"
    },
    {
     "name": "stdout",
     "output_type": "stream",
     "text": [
      "\n",
      "{'base_model': 'EfficientNetB2',\n",
      " 'decay_rate': 0.95,\n",
      " 'decay_steps': 50,\n",
      " 'foods': array(['risotto', 'hot_dog', 'nachos', 'omelette', 'frozen_yogurt'],\n",
      "      dtype='<U23'),\n",
      " 'initial_learning_rate': 0.001}\n"
     ]
    },
    {
     "data": {
      "application/vnd.jupyter.widget-view+json": {
       "model_id": "f742cc7fb1c94d3b9f452f4e32ec87ab",
       "version_major": 2,
       "version_minor": 0
      },
      "text/plain": [
       "HBox(children=(HTML(value=''), FloatProgress(value=1.0, bar_style='info', layout=Layout(width='20px'), max=1.0…"
      ]
     },
     "metadata": {},
     "output_type": "display_data"
    },
    {
     "data": {
      "application/vnd.jupyter.widget-view+json": {
       "model_id": "",
       "version_major": 2,
       "version_minor": 0
      },
      "text/plain": [
       "HBox(children=(HTML(value=''), FloatProgress(value=1.0, bar_style='info', layout=Layout(width='20px'), max=1.0…"
      ]
     },
     "metadata": {},
     "output_type": "display_data"
    },
    {
     "name": "stdout",
     "output_type": "stream",
     "text": [
      "\n",
      "{'base_model': 'InceptionV3',\n",
      " 'decay_rate': 0.95,\n",
      " 'decay_steps': 50,\n",
      " 'foods': array(['risotto', 'hot_dog', 'nachos', 'omelette', 'frozen_yogurt'],\n",
      "      dtype='<U23'),\n",
      " 'initial_learning_rate': 0.001}\n",
      "Downloading data from https://storage.googleapis.com/tensorflow/keras-applications/inception_v3/inception_v3_weights_tf_dim_ordering_tf_kernels_notop.h5\n",
      "87916544/87910968 [==============================] - 34s 0us/step\n"
     ]
    },
    {
     "data": {
      "application/vnd.jupyter.widget-view+json": {
       "model_id": "506c2548c8474093bfdfb29bda77e9a5",
       "version_major": 2,
       "version_minor": 0
      },
      "text/plain": [
       "HBox(children=(HTML(value=''), FloatProgress(value=1.0, bar_style='info', layout=Layout(width='20px'), max=1.0…"
      ]
     },
     "metadata": {},
     "output_type": "display_data"
    },
    {
     "data": {
      "application/vnd.jupyter.widget-view+json": {
       "model_id": "",
       "version_major": 2,
       "version_minor": 0
      },
      "text/plain": [
       "HBox(children=(HTML(value=''), FloatProgress(value=1.0, bar_style='info', layout=Layout(width='20px'), max=1.0…"
      ]
     },
     "metadata": {},
     "output_type": "display_data"
    },
    {
     "name": "stdout",
     "output_type": "stream",
     "text": [
      "\n",
      "{'base_model': 'InceptionResNetV2',\n",
      " 'decay_rate': 0.95,\n",
      " 'decay_steps': 50,\n",
      " 'foods': array(['risotto', 'hot_dog', 'nachos', 'omelette', 'frozen_yogurt'],\n",
      "      dtype='<U23'),\n",
      " 'initial_learning_rate': 0.001}\n",
      "Downloading data from https://storage.googleapis.com/tensorflow/keras-applications/inception_resnet_v2/inception_resnet_v2_weights_tf_dim_ordering_tf_kernels_notop.h5\n",
      "219062272/219055592 [==============================] - 73s 0us/step\n"
     ]
    },
    {
     "data": {
      "application/vnd.jupyter.widget-view+json": {
       "model_id": "ff5c31f8b9154cbbbf60531a30fd407b",
       "version_major": 2,
       "version_minor": 0
      },
      "text/plain": [
       "HBox(children=(HTML(value=''), FloatProgress(value=1.0, bar_style='info', layout=Layout(width='20px'), max=1.0…"
      ]
     },
     "metadata": {},
     "output_type": "display_data"
    },
    {
     "data": {
      "application/vnd.jupyter.widget-view+json": {
       "model_id": "",
       "version_major": 2,
       "version_minor": 0
      },
      "text/plain": [
       "HBox(children=(HTML(value=''), FloatProgress(value=1.0, bar_style='info', layout=Layout(width='20px'), max=1.0…"
      ]
     },
     "metadata": {},
     "output_type": "display_data"
    },
    {
     "name": "stdout",
     "output_type": "stream",
     "text": [
      "\n"
     ]
    },
    {
     "data": {
      "image/png": "[encoded data removed]",
      "text/plain": [
       "<Figure size 432x288 with 2 Axes>"
      ]
     },
     "metadata": {},
     "output_type": "display_data"
    },
    {
     "data": {
      "image/png": "[encoded data removed]",
      "text/plain": [
       "<Figure size 1296x432 with 2 Axes>"
      ]
     },
     "metadata": {},
     "output_type": "display_data"
    },
    {
     "data": {
      "image/png": "[encoded data removed]",
      "text/plain": [
       "<Figure size 1296x432 with 2 Axes>"
      ]
     },
     "metadata": {},
     "output_type": "display_data"
    },
    {
     "data": {
      "image/png": "[encoded data removed]",
      "text/plain": [
       "<Figure size 1296x432 with 2 Axes>"
      ]
     },
     "metadata": {},
     "output_type": "display_data"
    },
    {
     "data": {
      "image/png": "[encoded data removed]",
      "text/plain": [
       "<Figure size 1296x432 with 2 Axes>"
      ]
     },
     "metadata": {},
     "output_type": "display_data"
    },
    {
     "data": {
      "image/png": "[encoded data removed]",
      "text/plain": [
       "<Figure size 1296x432 with 2 Axes>"
      ]
     },
     "metadata": {},
     "output_type": "display_data"
    },
    {
     "data": {
      "image/png": "[encoded data removed]",
      "text/plain": [
       "<Figure size 1296x432 with 2 Axes>"
      ]
     },
     "metadata": {},
     "output_type": "display_data"
    },
    {
     "data": {
      "image/png": "[encoded data removed]",
      "text/plain": [
       "<Figure size 1296x432 with 2 Axes>"
      ]
     },
     "metadata": {},
     "output_type": "display_data"
    },
    {
     "data": {
      "image/png": "[encoded data removed]",
      "text/plain": [
       "<Figure size 1296x432 with 2 Axes>"
      ]
     },
     "metadata": {},
     "output_type": "display_data"
    },
    {
     "data": {
      "text/plain": [
       "<Figure size 1296x432 with 0 Axes>"
      ]
     },
     "metadata": {},
     "output_type": "display_data"
    }
   ],
   "source": [
    "results = []\n",
    "\n",
    "for base in base_models:\n",
    "    params = run(base)\n",
    "    results.append(params)"
   ]
  },
  {
   "cell_type": "code",
   "execution_count": 16,
   "metadata": {},
   "outputs": [],
   "source": [
    "final_table = []\n",
    "for r in results:\n",
    "    final_table.append([\n",
    "        r['base_model'],\n",
    "        r['num_trainable'],\n",
    "        r['num_non_trainable'],\n",
    "        r['total_wall_time'],\n",
    "        r['hist_df']['acc'].iloc[-1] * 100,\n",
    "        r['hist_df']['index'].iloc[-1],\n",
    "        r['model_size'],\n",
    "    ])"
   ]
  },
  {
   "cell_type": "code",
   "execution_count": 17,
   "metadata": {},
   "outputs": [
    {
     "data": {
      "text/html": [
       "<div>\n",
       "<style scoped>\n",
       "    .dataframe tbody tr th:only-of-type {\n",
       "        vertical-align: middle;\n",
       "    }\n",
       "\n",
       "    .dataframe tbody tr th {\n",
       "        vertical-align: top;\n",
       "    }\n",
       "\n",
       "    .dataframe thead th {\n",
       "        text-align: right;\n",
       "    }\n",
       "</style>\n",
       "<table border=\"1\" class=\"dataframe\">\n",
       "  <thead>\n",
       "    <tr style=\"text-align: right;\">\n",
       "      <th></th>\n",
       "      <th>Base Model</th>\n",
       "      <th>Trainable Params</th>\n",
       "      <th>Non-Trainable Params</th>\n",
       "      <th>Time</th>\n",
       "      <th>Train Accuracy</th>\n",
       "      <th>Epochs</th>\n",
       "      <th>Model Size</th>\n",
       "    </tr>\n",
       "  </thead>\n",
       "  <tbody>\n",
       "    <tr>\n",
       "      <th>0</th>\n",
       "      <td>ResNet50</td>\n",
       "      <td>262917</td>\n",
       "      <td>23587712.0</td>\n",
       "      <td>146.691109</td>\n",
       "      <td>34.375000</td>\n",
       "      <td>49</td>\n",
       "      <td>93.306076</td>\n",
       "    </tr>\n",
       "    <tr>\n",
       "      <th>1</th>\n",
       "      <td>ResNet50V2</td>\n",
       "      <td>262917</td>\n",
       "      <td>23564800.0</td>\n",
       "      <td>144.952428</td>\n",
       "      <td>92.976588</td>\n",
       "      <td>49</td>\n",
       "      <td>93.204933</td>\n",
       "    </tr>\n",
       "    <tr>\n",
       "      <th>2</th>\n",
       "      <td>MobileNet</td>\n",
       "      <td>131845</td>\n",
       "      <td>3228864.0</td>\n",
       "      <td>141.465317</td>\n",
       "      <td>91.562498</td>\n",
       "      <td>49</td>\n",
       "      <td>13.991608</td>\n",
       "    </tr>\n",
       "    <tr>\n",
       "      <th>3</th>\n",
       "      <td>MobileNetV2</td>\n",
       "      <td>164613</td>\n",
       "      <td>2257984.0</td>\n",
       "      <td>142.051649</td>\n",
       "      <td>92.500001</td>\n",
       "      <td>49</td>\n",
       "      <td>10.793533</td>\n",
       "    </tr>\n",
       "    <tr>\n",
       "      <th>4</th>\n",
       "      <td>EfficientNetB0</td>\n",
       "      <td>164613</td>\n",
       "      <td>4049571.0</td>\n",
       "      <td>145.259782</td>\n",
       "      <td>17.187500</td>\n",
       "      <td>49</td>\n",
       "      <td>17.707634</td>\n",
       "    </tr>\n",
       "    <tr>\n",
       "      <th>5</th>\n",
       "      <td>EfficientNetB1</td>\n",
       "      <td>164613</td>\n",
       "      <td>6575239.0</td>\n",
       "      <td>148.467115</td>\n",
       "      <td>20.000000</td>\n",
       "      <td>49</td>\n",
       "      <td>27.486427</td>\n",
       "    </tr>\n",
       "    <tr>\n",
       "      <th>6</th>\n",
       "      <td>EfficientNetB2</td>\n",
       "      <td>180997</td>\n",
       "      <td>7768569.0</td>\n",
       "      <td>148.776566</td>\n",
       "      <td>19.062500</td>\n",
       "      <td>49</td>\n",
       "      <td>32.225670</td>\n",
       "    </tr>\n",
       "    <tr>\n",
       "      <th>7</th>\n",
       "      <td>InceptionV3</td>\n",
       "      <td>262917</td>\n",
       "      <td>21802784.0</td>\n",
       "      <td>145.538583</td>\n",
       "      <td>80.312502</td>\n",
       "      <td>49</td>\n",
       "      <td>86.667542</td>\n",
       "    </tr>\n",
       "    <tr>\n",
       "      <th>8</th>\n",
       "      <td>InceptionResNetV2</td>\n",
       "      <td>197381</td>\n",
       "      <td>54336736.0</td>\n",
       "      <td>153.501298</td>\n",
       "      <td>86.562502</td>\n",
       "      <td>49</td>\n",
       "      <td>210.692360</td>\n",
       "    </tr>\n",
       "  </tbody>\n",
       "</table>\n",
       "</div>"
      ],
      "text/plain": [
       "          Base Model  Trainable Params  Non-Trainable Params        Time  \\\n",
       "0           ResNet50            262917            23587712.0  146.691109   \n",
       "1         ResNet50V2            262917            23564800.0  144.952428   \n",
       "2          MobileNet            131845             3228864.0  141.465317   \n",
       "3        MobileNetV2            164613             2257984.0  142.051649   \n",
       "4     EfficientNetB0            164613             4049571.0  145.259782   \n",
       "5     EfficientNetB1            164613             6575239.0  148.467115   \n",
       "6     EfficientNetB2            180997             7768569.0  148.776566   \n",
       "7        InceptionV3            262917            21802784.0  145.538583   \n",
       "8  InceptionResNetV2            197381            54336736.0  153.501298   \n",
       "\n",
       "   Train Accuracy  Epochs  Model Size  \n",
       "0       34.375000      49   93.306076  \n",
       "1       92.976588      49   93.204933  \n",
       "2       91.562498      49   13.991608  \n",
       "3       92.500001      49   10.793533  \n",
       "4       17.187500      49   17.707634  \n",
       "5       20.000000      49   27.486427  \n",
       "6       19.062500      49   32.225670  \n",
       "7       80.312502      49   86.667542  \n",
       "8       86.562502      49  210.692360  "
      ]
     },
     "execution_count": 17,
     "metadata": {},
     "output_type": "execute_result"
    }
   ],
   "source": [
    "pd.DataFrame(\n",
    "    final_table, \n",
    "    columns=[\n",
    "        'Base Model',\n",
    "        'Trainable Params',\n",
    "        'Non-Trainable Params',\n",
    "        'Time',\n",
    "        'Train Accuracy',\n",
    "        'Epochs',\n",
    "        'Model Size',\n",
    "    ])"
   ]
  },
  {
   "cell_type": "code",
   "execution_count": null,
   "metadata": {},
   "outputs": [],
   "source": []
  }
 ],
 "metadata": {
  "kernelspec": {
   "display_name": "Python 3",
   "language": "python",
   "name": "python3"
  },
  "language_info": {
   "codemirror_mode": {
    "name": "ipython",
    "version": 3
   },
   "file_extension": ".py",
   "mimetype": "text/x-python",
   "name": "python",
   "nbconvert_exporter": "python",
   "pygments_lexer": "ipython3",
   "version": "3.6.9"
  }
 },
 "nbformat": 4,
 "nbformat_minor": 4
}
